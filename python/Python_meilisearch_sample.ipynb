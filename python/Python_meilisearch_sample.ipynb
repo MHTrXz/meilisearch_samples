{
 "cells": [
  {
   "cell_type": "markdown",
   "id": "d1ce70f4",
   "metadata": {},
   "source": [
    "### install meilisearch package"
   ]
  },
  {
   "cell_type": "code",
   "execution_count": 1,
   "id": "b370b67e",
   "metadata": {},
   "outputs": [
    {
     "name": "stdout",
     "output_type": "stream",
     "text": [
      "Defaulting to user installation because normal site-packages is not writeable\n",
      "Requirement already satisfied: meilisearch in c:\\users\\mhtrxz\\appdata\\roaming\\python\\python39\\site-packages (0.31.0)\n",
      "Requirement already satisfied: requests in c:\\programdata\\anaconda3\\lib\\site-packages (from meilisearch) (2.28.1)\n",
      "Requirement already satisfied: camel-converter[pydantic] in c:\\users\\mhtrxz\\appdata\\roaming\\python\\python39\\site-packages (from meilisearch) (3.1.2)\n",
      "Requirement already satisfied: pydantic>=1.8.2 in c:\\users\\mhtrxz\\appdata\\roaming\\python\\python39\\site-packages (from camel-converter[pydantic]->meilisearch) (1.9.1)\n",
      "Requirement already satisfied: certifi>=2017.4.17 in c:\\programdata\\anaconda3\\lib\\site-packages (from requests->meilisearch) (2022.9.14)\n",
      "Requirement already satisfied: idna<4,>=2.5 in c:\\programdata\\anaconda3\\lib\\site-packages (from requests->meilisearch) (3.3)\n",
      "Requirement already satisfied: urllib3<1.27,>=1.21.1 in c:\\programdata\\anaconda3\\lib\\site-packages (from requests->meilisearch) (1.26.11)\n",
      "Requirement already satisfied: charset-normalizer<3,>=2 in c:\\programdata\\anaconda3\\lib\\site-packages (from requests->meilisearch) (2.0.4)\n",
      "Requirement already satisfied: typing-extensions>=3.7.4.3 in c:\\programdata\\anaconda3\\lib\\site-packages (from pydantic>=1.8.2->camel-converter[pydantic]->meilisearch) (4.3.0)\n"
     ]
    }
   ],
   "source": [
    "!pip install meilisearch"
   ]
  },
  {
   "cell_type": "markdown",
   "id": "91843b27",
   "metadata": {},
   "source": [
    "### import dependencies"
   ]
  },
  {
   "cell_type": "code",
   "execution_count": 1,
   "id": "3321697d",
   "metadata": {},
   "outputs": [],
   "source": [
    "import meilisearch\n",
    "import json"
   ]
  },
  {
   "cell_type": "markdown",
   "id": "ee6ce545",
   "metadata": {},
   "source": [
    "#### connect ro meilisearch client"
   ]
  },
  {
   "cell_type": "code",
   "execution_count": 2,
   "id": "51449520",
   "metadata": {},
   "outputs": [],
   "source": [
    "client = meilisearch.Client('http://localhost:7700', 'FGIz63kBZ5PiiMvifbKOHw5U2sxlJnEgyXdCwR9TuDM')"
   ]
  },
  {
   "cell_type": "markdown",
   "id": "ee035f9c",
   "metadata": {},
   "source": [
    "#### add collections to search"
   ]
  },
  {
   "cell_type": "code",
   "execution_count": 3,
   "id": "826f120b",
   "metadata": {},
   "outputs": [
    {
     "data": {
      "text/plain": [
       "TaskInfo(task_uid=0, index_uid='movies', status='enqueued', type='documentAdditionOrUpdate', enqueued_at=datetime.datetime(2024, 5, 6, 6, 9, 24, 872379))"
      ]
     },
     "execution_count": 3,
     "metadata": {},
     "output_type": "execute_result"
    }
   ],
   "source": [
    "json_file = open('movies.json', encoding='utf-8')\n",
    "movies = json.load(json_file)\n",
    "client.index('movies').add_documents(movies)"
   ]
  },
  {
   "cell_type": "markdown",
   "id": "80125705",
   "metadata": {},
   "source": [
    "#### get task 0 details"
   ]
  },
  {
   "cell_type": "code",
   "execution_count": 4,
   "id": "329cf4fa",
   "metadata": {},
   "outputs": [
    {
     "data": {
      "text/plain": [
       "Task(uid=0, index_uid='movies', status='processing', type='documentAdditionOrUpdate', details={'receivedDocuments': 31944, 'indexedDocuments': None}, error=None, canceled_by=None, duration=None, enqueued_at=datetime.datetime(2024, 5, 6, 6, 9, 24, 872379), started_at=datetime.datetime(2024, 5, 6, 6, 9, 24, 875268), finished_at=None)"
      ]
     },
     "execution_count": 4,
     "metadata": {},
     "output_type": "execute_result"
    }
   ],
   "source": [
    "client.get_task(0)"
   ]
  },
  {
   "cell_type": "markdown",
   "id": "c0faa21e",
   "metadata": {},
   "source": [
    "## searching\n",
    "also can do it in http://localhost:7700/"
   ]
  },
  {
   "cell_type": "code",
   "execution_count": 5,
   "id": "9d2fe535",
   "metadata": {},
   "outputs": [
    {
     "data": {
      "text/plain": [
       "{'hits': [{'id': 268,\n",
       "   'title': 'Batman',\n",
       "   'overview': 'Batman must face his most ruthless nemesis when a deformed madman calling himself \"The Joker\" seizes control of Gotham\\'s criminal underworld.',\n",
       "   'genres': ['Fantasy', 'Action'],\n",
       "   'poster': 'https://image.tmdb.org/t/p/w500/hztwplhxe2X9sq24CIcvkUy2DHZ.jpg',\n",
       "   'release_date': 614563200},\n",
       "  {'id': 272,\n",
       "   'title': 'Batman Begins',\n",
       "   'overview': 'Driven by tragedy, billionaire Bruce Wayne dedicates his life to uncovering and defeating the corruption that plagues his home, Gotham City.  Unable to work within the system, he instead creates a new identity, a symbol of fear for the criminal underworld - The Batman.',\n",
       "   'genres': ['Action', 'Crime', 'Drama'],\n",
       "   'poster': 'https://image.tmdb.org/t/p/w500/1P3ZyEq02wcTMd3iE4ebtLvncvH.jpg',\n",
       "   'release_date': 1118361600},\n",
       "  {'id': 364,\n",
       "   'title': 'Batman Returns',\n",
       "   'overview': 'While Batman deals with a deformed man calling himself the Penguin, an employee of a corrupt businessman transforms into the Catwoman.',\n",
       "   'genres': ['Action', 'Fantasy'],\n",
       "   'poster': 'https://image.tmdb.org/t/p/w500/jKBjeXM7iBBV9UkUcOXx3m7FSHY.jpg',\n",
       "   'release_date': 708912000},\n",
       "  {'id': 414,\n",
       "   'title': 'Batman Forever',\n",
       "   'overview': 'Batman must battle a disfigured district attorney and a disgruntled former employee with help from an amorous psychologist and a young circus acrobat.',\n",
       "   'genres': ['Action', 'Crime', 'Fantasy'],\n",
       "   'poster': 'https://image.tmdb.org/t/p/w500/k6EQ2OewzjF8TcPgok9wxpPAgXW.jpg',\n",
       "   'release_date': 803260800},\n",
       "  {'id': 415,\n",
       "   'title': 'Batman & Robin',\n",
       "   'overview': 'Batman and Robin deal with relationship issues while preventing Mr. Freeze and Poison Ivy from attacking Gotham City.',\n",
       "   'genres': ['Science Fiction', 'Action', 'Fantasy'],\n",
       "   'poster': 'https://image.tmdb.org/t/p/w500/bsg0mrxUKyJoL4oSGP5mlhEsqp.jpg',\n",
       "   'release_date': 866764800},\n",
       "  {'id': 2661,\n",
       "   'title': 'Batman',\n",
       "   'overview': 'The Dynamic Duo faces four super-villains who plan to hold the world for ransom with the help of a secret invention that instantly dehydrates people.',\n",
       "   'genres': ['Family', 'Adventure', 'Comedy', 'Science Fiction', 'Crime'],\n",
       "   'poster': 'https://image.tmdb.org/t/p/w500/iLC5bgc1NOuXpfBxtb8xEj6tzvu.jpg',\n",
       "   'release_date': -108086400},\n",
       "  {'id': 13851,\n",
       "   'title': 'Batman: Gotham Knight',\n",
       "   'overview': \"A collection of key events mark Bruce Wayne's life as he journeys from beginner to Dark Knight.\",\n",
       "   'genres': ['Animation', 'Action', 'Adventure'],\n",
       "   'poster': 'https://image.tmdb.org/t/p/w500/f3xUrqo7yEiU0guk2Ua3Znqiw6S.jpg',\n",
       "   'release_date': 1215475200},\n",
       "  {'id': 14919,\n",
       "   'title': 'Batman: Mask of the Phantasm',\n",
       "   'overview': \"When a powerful criminal, who is connected to Bruce Wayne's ex-girlfriend, blames the Dark Knight for killing a crime lord, Batman decides to fight against him.\",\n",
       "   'genres': ['Action', 'Animation', 'Crime'],\n",
       "   'poster': 'https://image.tmdb.org/t/p/w500/l4jaQjkgznu2Rz05X18f24UjPNW.jpg',\n",
       "   'release_date': 756777600},\n",
       "  {'id': 15805,\n",
       "   'title': 'Batman & Mr. Freeze: SubZero',\n",
       "   'overview': 'When Mr. Freeze kidnaps Barbara Gordon, as an involuntary organ donor to save his dying wife, Batman and Robin must find her before the operation can begin.',\n",
       "   'genres': ['Animation', 'Action', 'Crime', 'Family'],\n",
       "   'poster': 'https://image.tmdb.org/t/p/w500/eIeT9dsFeKiKNxjWyXHTL92TTrJ.jpg',\n",
       "   'release_date': 887155200},\n",
       "  {'id': 16234,\n",
       "   'title': 'Batman Beyond: Return of the Joker',\n",
       "   'overview': \"The Joker is back with a vengeance, and Gotham's newest Dark Knight needs answers as he stands alone to face Gotham's most infamous Clown Prince of Crime.\",\n",
       "   'genres': ['Animation', 'Family', 'Action', 'Science Fiction'],\n",
       "   'poster': 'https://image.tmdb.org/t/p/w500/7RlBs0An83fqAuKfwH5gKMcqgMc.jpg',\n",
       "   'release_date': 976579200},\n",
       "  {'id': 21683,\n",
       "   'title': 'Batman: Mystery of the Batwoman',\n",
       "   'overview': \"As if the Penguin wasn't enough to contend with, a new vigilante has surfaced in Gotham City, and her strong-arm tactics give Batman cause for concern.\",\n",
       "   'genres': ['Adventure',\n",
       "    'Fantasy',\n",
       "    'Animation',\n",
       "    'Action',\n",
       "    'Science Fiction',\n",
       "    'Family'],\n",
       "   'poster': 'https://image.tmdb.org/t/p/w500/mlmhpUArJdpRPO211v3lETe3uzg.jpg',\n",
       "   'release_date': 1066694400},\n",
       "  {'id': 29751,\n",
       "   'title': 'Batman Unmasked: The Psychology of the Dark Knight',\n",
       "   'overview': 'Delve into the world of Batman and the vigilante justice that he brought to the city of Gotham. Batman is a man who, after experiencing great tragedy, devotes his life to an ideal--but what happens when one man takes on the evil underworld alone? Examine why Batman is who he is--and explore how a boy scarred by tragedy becomes a symbol of hope to everyone else.',\n",
       "   'genres': ['Documentary'],\n",
       "   'poster': 'https://image.tmdb.org/t/p/w500/e15wNHmLX7PJUo8lqzQRhwbX7PL.jpg',\n",
       "   'release_date': 1216080000},\n",
       "  {'id': 40662,\n",
       "   'title': 'Batman: Under the Red Hood',\n",
       "   'overview': 'One part vigilante, one part criminal kingpin, Red Hood begins cleaning up Gotham with the efficiency of Batman, but without following the same ethical code.',\n",
       "   'genres': ['Action', 'Animation', 'Mystery', 'Crime'],\n",
       "   'poster': 'https://image.tmdb.org/t/p/w500/dEujs48u3n4cmh15ITtHHDFxSaS.jpg',\n",
       "   'release_date': 1280188800},\n",
       "  {'id': 45162,\n",
       "   'title': 'Superman/Batman: Apocalypse',\n",
       "   'overview': 'Batman discovers a mysterious teen-aged girl with superhuman powers and a connection to Superman. When the girl comes to the attention of Darkseid, the evil overlord of Apokolips, events take a decidedly dangerous turn.',\n",
       "   'genres': ['Action', 'Adventure', 'Animation', 'Family', 'Science Fiction'],\n",
       "   'poster': 'https://image.tmdb.org/t/p/w500/zYTm9Zjrf4uLL1mT4UJg4j2Mugu.jpg',\n",
       "   'release_date': 1285632000},\n",
       "  {'id': 64202,\n",
       "   'title': 'Batman Beyond: The Movie',\n",
       "   'overview': 'Fueled by remorse and vengeance, a high schooler named Terry McGinnis revives the role of Batman. Under supervision of an elderly Bruce Wayne, he fights crime in a harsh futuristic Gotham.',\n",
       "   'genres': ['Animation', 'Action', 'Family', 'Science Fiction', 'TV Movie'],\n",
       "   'poster': 'https://image.tmdb.org/t/p/w500/7BCRuuuAVRzJbrm9IqvGaa12Lqo.jpg',\n",
       "   'release_date': 915926400},\n",
       "  {'id': 69735,\n",
       "   'title': 'Batman: Year One',\n",
       "   'overview': 'When Bruce Wayne and James Gordon move to Gotham City, the idealistic Wayne declares war on the city’s criminals, swiftly becoming Batman in the process.',\n",
       "   'genres': ['Action', 'Adventure', 'Animation', 'Crime'],\n",
       "   'poster': 'https://image.tmdb.org/t/p/w500/mLZRhulJcDsxZWTdfx0trtk6y07.jpg',\n",
       "   'release_date': 1317081600},\n",
       "  {'id': 123025,\n",
       "   'title': 'Batman: The Dark Knight Returns, Part 1',\n",
       "   'overview': 'Batman has not been seen for ten years. A new breed of criminal ravages Gotham City, forcing 55-year-old Bruce Wayne back into the cape and cowl. But, does he still have what it takes to fight crime in a new era?',\n",
       "   'genres': ['Action', 'Animation', 'Mystery'],\n",
       "   'poster': 'https://image.tmdb.org/t/p/w500/kkjTbwV1Xnj8wBL52PjOcXzTbnb.jpg',\n",
       "   'release_date': 1345507200},\n",
       "  {'id': 142061,\n",
       "   'title': 'Batman: The Dark Knight Returns, Part 2',\n",
       "   'overview': 'Batman has stopped the reign of terror that The Mutants had cast upon his city.  Now an old foe wants a reunion and the government wants The Man of Steel to put a stop to Batman.',\n",
       "   'genres': ['Action', 'Animation', 'Mystery'],\n",
       "   'poster': 'https://image.tmdb.org/t/p/w500/arEZYd6uMOFTILne9Ux0A8qctMe.jpg',\n",
       "   'release_date': 1357171200},\n",
       "  {'id': 186579,\n",
       "   'title': 'Batman Tech',\n",
       "   'overview': \"He's caped, cowled and the coolest superhero of them all, because underneath that Batsuit, Batman only has his human strength and intellect to rely on. That and the greatest arsenal of crime fighting weaponry ever devised. But just where does comic book science fiction end and scientific fact begin? What technologies are behind the gadgets in Batman's utility belt? And just how plausible is the Batmobile? Get ready for a real life trip to the Batcave as we reveal the secrets behind Batman Tech.\",\n",
       "   'genres': ['Documentary'],\n",
       "   'poster': 'https://image.tmdb.org/t/p/w500/tlAYMNTvga69AUXMIY0HeeoblHT.jpg',\n",
       "   'release_date': 1216512000},\n",
       "  {'id': 209112,\n",
       "   'title': 'Batman v Superman: Dawn of Justice',\n",
       "   'overview': 'Fearing the actions of a god-like Super Hero left unchecked, Gotham City’s own formidable, forceful vigilante takes on Metropolis’s most revered, modern-day savior, while the world wrestles with what sort of hero it really needs. And with Batman and Superman at war with one another, a new threat quickly arises, putting mankind in greater danger than it’s ever known before.',\n",
       "   'genres': ['Action', 'Adventure', 'Fantasy'],\n",
       "   'poster': 'https://image.tmdb.org/t/p/w500/5UsK3grJvtQrtzEgqNlDljJW96w.jpg',\n",
       "   'release_date': 1458691200}],\n",
       " 'query': 'botman',\n",
       " 'processingTimeMs': 15,\n",
       " 'limit': 20,\n",
       " 'offset': 0,\n",
       " 'estimatedTotalHits': 70}"
      ]
     },
     "execution_count": 5,
     "metadata": {},
     "output_type": "execute_result"
    }
   ],
   "source": [
    "client.index('movies').search('botman')"
   ]
  },
  {
   "cell_type": "code",
   "execution_count": 6,
   "id": "33a1d0e5",
   "metadata": {},
   "outputs": [
    {
     "data": {
      "text/plain": [
       "{'hits': [{'id': 268,\n",
       "   'title': 'Batman',\n",
       "   'overview': 'Batman must face his most ruthless nemesis when a deformed madman calling himself \"The Joker\" seizes control of Gotham\\'s criminal underworld.',\n",
       "   'genres': ['Fantasy', 'Action'],\n",
       "   'poster': 'https://image.tmdb.org/t/p/w500/hztwplhxe2X9sq24CIcvkUy2DHZ.jpg',\n",
       "   'release_date': 614563200},\n",
       "  {'id': 379291,\n",
       "   'title': 'Justice League vs. Teen Titans',\n",
       "   'overview': 'Robin is sent by Batman to work with the Teen Titans after his volatile behavior botches up a Justice League mission. The Titans must then step up to face Trigon after he possesses the League and threatens to conquer the world.',\n",
       "   'genres': ['Action', 'Animation'],\n",
       "   'poster': 'https://image.tmdb.org/t/p/w500/3G6RPpafXApTzn56cbVqLBp9uSz.jpg',\n",
       "   'release_date': 1459209600},\n",
       "  {'id': 414,\n",
       "   'title': 'Batman Forever',\n",
       "   'overview': 'Batman must battle a disfigured district attorney and a disgruntled former employee with help from an amorous psychologist and a young circus acrobat.',\n",
       "   'genres': ['Action', 'Crime', 'Fantasy'],\n",
       "   'poster': 'https://image.tmdb.org/t/p/w500/k6EQ2OewzjF8TcPgok9wxpPAgXW.jpg',\n",
       "   'release_date': 803260800},\n",
       "  {'id': 15805,\n",
       "   'title': 'Batman & Mr. Freeze: SubZero',\n",
       "   'overview': 'When Mr. Freeze kidnaps Barbara Gordon, as an involuntary organ donor to save his dying wife, Batman and Robin must find her before the operation can begin.',\n",
       "   'genres': ['Animation', 'Action', 'Crime', 'Family'],\n",
       "   'poster': 'https://image.tmdb.org/t/p/w500/eIeT9dsFeKiKNxjWyXHTL92TTrJ.jpg',\n",
       "   'release_date': 887155200},\n",
       "  {'id': 324849,\n",
       "   'title': 'The Lego Batman Movie',\n",
       "   'overview': 'A cooler-than-ever Bruce Wayne must deal with the usual suspects as they plan to rule Gotham City, while discovering that he has accidentally adopted a teenage orphan who wishes to become his sidekick.',\n",
       "   'genres': ['Family', 'Action', 'Animation', 'Comedy', 'Fantasy'],\n",
       "   'poster': 'https://image.tmdb.org/t/p/w500/snGwr2gag4Fcgx2OGmH9otl6ofW.jpg',\n",
       "   'release_date': 1486512000},\n",
       "  {'id': 22855,\n",
       "   'title': 'Superman/Batman: Public Enemies',\n",
       "   'overview': 'United States President Lex Luthor uses the oncoming trajectory of a Kryptonite meteor to frame Superman and declare a $1 billion bounty on the heads of the Man of Steel and his ‘partner in crime’, Batman. Heroes and villains alike launch a relentless pursuit of Superman and Batman, who must unite—and recruit help—to try and stave off the action-packed onslaught, stop the meteor Luthors plot.',\n",
       "   'genres': ['Animation', 'Action', 'Adventure', 'Family'],\n",
       "   'poster': 'https://image.tmdb.org/t/p/w500/izvMc22ywSLFWUXZEIuJJ8dms75.jpg',\n",
       "   'release_date': 1254182400},\n",
       "  {'id': 217993,\n",
       "   'title': 'Justice League: War',\n",
       "   'overview': 'The world is under attack by an alien armada led by the powerful Apokoliptian, Darkseid. A group of superheroes consisting of Superman, Batman, Wonder Woman, The Flash, Green Lantern, Cyborg, and Shazam must set aside their differences and gather together to defend Earth.',\n",
       "   'genres': ['Animation', 'Action'],\n",
       "   'poster': 'https://image.tmdb.org/t/p/w500/eu6zEhpt9QVgZk8T4FJCwKCbJkq.jpg',\n",
       "   'release_date': 1391299200},\n",
       "  {'id': 2661,\n",
       "   'title': 'Batman',\n",
       "   'overview': 'The Dynamic Duo faces four super-villains who plan to hold the world for ransom with the help of a secret invention that instantly dehydrates people.',\n",
       "   'genres': ['Family', 'Adventure', 'Comedy', 'Science Fiction', 'Crime'],\n",
       "   'poster': 'https://image.tmdb.org/t/p/w500/iLC5bgc1NOuXpfBxtb8xEj6tzvu.jpg',\n",
       "   'release_date': -108086400},\n",
       "  {'id': 272,\n",
       "   'title': 'Batman Begins',\n",
       "   'overview': 'Driven by tragedy, billionaire Bruce Wayne dedicates his life to uncovering and defeating the corruption that plagues his home, Gotham City.  Unable to work within the system, he instead creates a new identity, a symbol of fear for the criminal underworld - The Batman.',\n",
       "   'genres': ['Action', 'Crime', 'Drama'],\n",
       "   'poster': 'https://image.tmdb.org/t/p/w500/1P3ZyEq02wcTMd3iE4ebtLvncvH.jpg',\n",
       "   'release_date': 1118361600},\n",
       "  {'id': 364,\n",
       "   'title': 'Batman Returns',\n",
       "   'overview': 'While Batman deals with a deformed man calling himself the Penguin, an employee of a corrupt businessman transforms into the Catwoman.',\n",
       "   'genres': ['Action', 'Fantasy'],\n",
       "   'poster': 'https://image.tmdb.org/t/p/w500/jKBjeXM7iBBV9UkUcOXx3m7FSHY.jpg',\n",
       "   'release_date': 708912000},\n",
       "  {'id': 415,\n",
       "   'title': 'Batman & Robin',\n",
       "   'overview': 'Batman and Robin deal with relationship issues while preventing Mr. Freeze and Poison Ivy from attacking Gotham City.',\n",
       "   'genres': ['Science Fiction', 'Action', 'Fantasy'],\n",
       "   'poster': 'https://image.tmdb.org/t/p/w500/bsg0mrxUKyJoL4oSGP5mlhEsqp.jpg',\n",
       "   'release_date': 866764800},\n",
       "  {'id': 13851,\n",
       "   'title': 'Batman: Gotham Knight',\n",
       "   'overview': \"A collection of key events mark Bruce Wayne's life as he journeys from beginner to Dark Knight.\",\n",
       "   'genres': ['Animation', 'Action', 'Adventure'],\n",
       "   'poster': 'https://image.tmdb.org/t/p/w500/f3xUrqo7yEiU0guk2Ua3Znqiw6S.jpg',\n",
       "   'release_date': 1215475200},\n",
       "  {'id': 14919,\n",
       "   'title': 'Batman: Mask of the Phantasm',\n",
       "   'overview': \"When a powerful criminal, who is connected to Bruce Wayne's ex-girlfriend, blames the Dark Knight for killing a crime lord, Batman decides to fight against him.\",\n",
       "   'genres': ['Action', 'Animation', 'Crime'],\n",
       "   'poster': 'https://image.tmdb.org/t/p/w500/l4jaQjkgznu2Rz05X18f24UjPNW.jpg',\n",
       "   'release_date': 756777600},\n",
       "  {'id': 16234,\n",
       "   'title': 'Batman Beyond: Return of the Joker',\n",
       "   'overview': \"The Joker is back with a vengeance, and Gotham's newest Dark Knight needs answers as he stands alone to face Gotham's most infamous Clown Prince of Crime.\",\n",
       "   'genres': ['Animation', 'Family', 'Action', 'Science Fiction'],\n",
       "   'poster': 'https://image.tmdb.org/t/p/w500/7RlBs0An83fqAuKfwH5gKMcqgMc.jpg',\n",
       "   'release_date': 976579200},\n",
       "  {'id': 21683,\n",
       "   'title': 'Batman: Mystery of the Batwoman',\n",
       "   'overview': \"As if the Penguin wasn't enough to contend with, a new vigilante has surfaced in Gotham City, and her strong-arm tactics give Batman cause for concern.\",\n",
       "   'genres': ['Adventure',\n",
       "    'Fantasy',\n",
       "    'Animation',\n",
       "    'Action',\n",
       "    'Science Fiction',\n",
       "    'Family'],\n",
       "   'poster': 'https://image.tmdb.org/t/p/w500/mlmhpUArJdpRPO211v3lETe3uzg.jpg',\n",
       "   'release_date': 1066694400},\n",
       "  {'id': 29751,\n",
       "   'title': 'Batman Unmasked: The Psychology of the Dark Knight',\n",
       "   'overview': 'Delve into the world of Batman and the vigilante justice that he brought to the city of Gotham. Batman is a man who, after experiencing great tragedy, devotes his life to an ideal--but what happens when one man takes on the evil underworld alone? Examine why Batman is who he is--and explore how a boy scarred by tragedy becomes a symbol of hope to everyone else.',\n",
       "   'genres': ['Documentary'],\n",
       "   'poster': 'https://image.tmdb.org/t/p/w500/e15wNHmLX7PJUo8lqzQRhwbX7PL.jpg',\n",
       "   'release_date': 1216080000},\n",
       "  {'id': 40662,\n",
       "   'title': 'Batman: Under the Red Hood',\n",
       "   'overview': 'One part vigilante, one part criminal kingpin, Red Hood begins cleaning up Gotham with the efficiency of Batman, but without following the same ethical code.',\n",
       "   'genres': ['Action', 'Animation', 'Mystery', 'Crime'],\n",
       "   'poster': 'https://image.tmdb.org/t/p/w500/dEujs48u3n4cmh15ITtHHDFxSaS.jpg',\n",
       "   'release_date': 1280188800},\n",
       "  {'id': 45162,\n",
       "   'title': 'Superman/Batman: Apocalypse',\n",
       "   'overview': 'Batman discovers a mysterious teen-aged girl with superhuman powers and a connection to Superman. When the girl comes to the attention of Darkseid, the evil overlord of Apokolips, events take a decidedly dangerous turn.',\n",
       "   'genres': ['Action', 'Adventure', 'Animation', 'Family', 'Science Fiction'],\n",
       "   'poster': 'https://image.tmdb.org/t/p/w500/zYTm9Zjrf4uLL1mT4UJg4j2Mugu.jpg',\n",
       "   'release_date': 1285632000},\n",
       "  {'id': 64202,\n",
       "   'title': 'Batman Beyond: The Movie',\n",
       "   'overview': 'Fueled by remorse and vengeance, a high schooler named Terry McGinnis revives the role of Batman. Under supervision of an elderly Bruce Wayne, he fights crime in a harsh futuristic Gotham.',\n",
       "   'genres': ['Animation', 'Action', 'Family', 'Science Fiction', 'TV Movie'],\n",
       "   'poster': 'https://image.tmdb.org/t/p/w500/7BCRuuuAVRzJbrm9IqvGaa12Lqo.jpg',\n",
       "   'release_date': 915926400},\n",
       "  {'id': 69735,\n",
       "   'title': 'Batman: Year One',\n",
       "   'overview': 'When Bruce Wayne and James Gordon move to Gotham City, the idealistic Wayne declares war on the city’s criminals, swiftly becoming Batman in the process.',\n",
       "   'genres': ['Action', 'Adventure', 'Animation', 'Crime'],\n",
       "   'poster': 'https://image.tmdb.org/t/p/w500/mLZRhulJcDsxZWTdfx0trtk6y07.jpg',\n",
       "   'release_date': 1317081600}],\n",
       " 'query': 'Batman must face his most ruthless nemesis when',\n",
       " 'processingTimeMs': 1,\n",
       " 'limit': 20,\n",
       " 'offset': 0,\n",
       " 'estimatedTotalHits': 64}"
      ]
     },
     "execution_count": 6,
     "metadata": {},
     "output_type": "execute_result"
    }
   ],
   "source": [
    "client.index('movies').search('Batman must face his most ruthless nemesis when')"
   ]
  },
  {
   "cell_type": "markdown",
   "id": "6f6665d4",
   "metadata": {},
   "source": [
    "## end"
   ]
  }
 ],
 "metadata": {
  "kernelspec": {
   "display_name": "Python 3 (ipykernel)",
   "language": "python",
   "name": "python3"
  },
  "language_info": {
   "codemirror_mode": {
    "name": "ipython",
    "version": 3
   },
   "file_extension": ".py",
   "mimetype": "text/x-python",
   "name": "python",
   "nbconvert_exporter": "python",
   "pygments_lexer": "ipython3",
   "version": "3.9.13"
  }
 },
 "nbformat": 4,
 "nbformat_minor": 5
}
