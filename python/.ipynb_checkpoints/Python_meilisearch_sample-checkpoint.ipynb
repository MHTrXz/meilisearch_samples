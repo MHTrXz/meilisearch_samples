{
 "cells": [
  {
   "cell_type": "markdown",
   "id": "d1ce70f4",
   "metadata": {},
   "source": [
    "### install meilisearch package"
   ]
  },
  {
   "cell_type": "code",
   "execution_count": 2,
   "id": "b370b67e",
   "metadata": {
    "jupyter": {
     "is_executing": true
    }
   },
   "outputs": [
    {
     "name": "stdout",
     "output_type": "stream",
     "text": [
      "Defaulting to user installation because normal site-packages is not writeable\n",
      "Collecting meilisearch\n",
      "  Downloading meilisearch-0.31.3-py3-none-any.whl.metadata (942 bytes)\n",
      "Requirement already satisfied: requests in c:\\users\\mhtrxz\\appdata\\roaming\\python\\python311\\site-packages (from meilisearch) (2.31.0)\n",
      "Collecting camel-converter[pydantic] (from meilisearch)\n",
      "  Downloading camel_converter-3.1.2-py3-none-any.whl.metadata (5.4 kB)\n",
      "Requirement already satisfied: pydantic>=1.8.2 in c:\\program files\\anaconda3\\lib\\site-packages (from camel-converter[pydantic]->meilisearch) (1.10.12)\n",
      "Requirement already satisfied: charset-normalizer<4,>=2 in c:\\users\\mhtrxz\\appdata\\roaming\\python\\python311\\site-packages (from requests->meilisearch) (3.3.2)\n",
      "Requirement already satisfied: idna<4,>=2.5 in c:\\users\\mhtrxz\\appdata\\roaming\\python\\python311\\site-packages (from requests->meilisearch) (3.6)\n",
      "Requirement already satisfied: urllib3<3,>=1.21.1 in c:\\users\\mhtrxz\\appdata\\roaming\\python\\python311\\site-packages (from requests->meilisearch) (2.1.0)\n",
      "Requirement already satisfied: certifi>=2017.4.17 in c:\\users\\mhtrxz\\appdata\\roaming\\python\\python311\\site-packages (from requests->meilisearch) (2023.11.17)\n",
      "Requirement already satisfied: typing-extensions>=4.2.0 in c:\\program files\\anaconda3\\lib\\site-packages (from pydantic>=1.8.2->camel-converter[pydantic]->meilisearch) (4.9.0)\n",
      "Downloading meilisearch-0.31.3-py3-none-any.whl (23 kB)\n",
      "Downloading camel_converter-3.1.2-py3-none-any.whl (5.7 kB)\n",
      "Installing collected packages: camel-converter, meilisearch\n",
      "Successfully installed camel-converter-3.1.2 meilisearch-0.31.3\n"
     ]
    }
   ],
   "source": [
    "!pip install meilisearch"
   ]
  },
  {
   "cell_type": "markdown",
   "id": "91843b27",
   "metadata": {},
   "source": [
    "### import dependencies"
   ]
  },
  {
   "cell_type": "code",
   "execution_count": 3,
   "id": "3321697d",
   "metadata": {
    "jupyter": {
     "is_executing": true
    }
   },
   "outputs": [],
   "source": [
    "import meilisearch\n",
    "import json"
   ]
  },
  {
   "cell_type": "markdown",
   "id": "ee6ce545",
   "metadata": {},
   "source": [
    "#### connect ro meilisearch client"
   ]
  },
  {
   "cell_type": "code",
   "execution_count": 4,
   "id": "51449520",
   "metadata": {},
   "outputs": [],
   "source": [
    "client = meilisearch.Client('http://localhost:7700', 'FGIz63kBZ5PiiMvifbKOHw5U2sxlJnEgyXdCwR9TuDM')"
   ]
  },
  {
   "cell_type": "markdown",
   "id": "ee035f9c",
   "metadata": {},
   "source": [
    "#### add collections to search"
   ]
  },
  {
   "cell_type": "code",
   "execution_count": 3,
   "id": "826f120b",
   "metadata": {},
   "outputs": [
    {
     "data": {
      "text/plain": [
       "TaskInfo(task_uid=0, index_uid='movies', status='enqueued', type='documentAdditionOrUpdate', enqueued_at=datetime.datetime(2024, 5, 6, 6, 9, 24, 872379))"
      ]
     },
     "execution_count": 3,
     "metadata": {},
     "output_type": "execute_result"
    }
   ],
   "source": [
    "json_file = open('movies.json', encoding='utf-8')\n",
    "movies = json.load(json_file)\n",
    "client.index('movies').add_documents(movies)"
   ]
  },
  {
   "cell_type": "markdown",
   "id": "80125705",
   "metadata": {},
   "source": [
    "#### get task 0 details"
   ]
  },
  {
   "cell_type": "code",
   "execution_count": 5,
   "id": "329cf4fa",
   "metadata": {},
   "outputs": [
    {
     "data": {
      "text/plain": [
       "Task(uid=0, index_uid='movies', status='succeeded', type='documentAdditionOrUpdate', details={'receivedDocuments': 31944, 'indexedDocuments': 31944}, error=None, canceled_by=None, duration='PT9.352983S', enqueued_at=datetime.datetime(2024, 5, 6, 6, 9, 24, 872379), started_at=datetime.datetime(2024, 5, 6, 6, 9, 24, 875268), finished_at=datetime.datetime(2024, 5, 6, 6, 9, 34, 228251))"
      ]
     },
     "execution_count": 5,
     "metadata": {},
     "output_type": "execute_result"
    }
   ],
   "source": [
    "client.get_task(0)"
   ]
  },
  {
   "cell_type": "markdown",
   "id": "c0faa21e",
   "metadata": {},
   "source": [
    "## searching\n",
    "also can do it in http://localhost:7700/"
   ]
  },
  {
   "cell_type": "code",
   "execution_count": 6,
   "id": "9d2fe535",
   "metadata": {},
   "outputs": [
    {
     "data": {
      "text/plain": [
       "{'hits': [{'id': 268,\n",
       "   'title': 'Batman',\n",
       "   'overview': 'Batman must face his most ruthless nemesis when a deformed madman calling himself \"The Joker\" seizes control of Gotham\\'s criminal underworld.',\n",
       "   'genres': ['Fantasy', 'Action'],\n",
       "   'poster': 'https://image.tmdb.org/t/p/w500/hztwplhxe2X9sq24CIcvkUy2DHZ.jpg',\n",
       "   'release_date': 614563200},\n",
       "  {'id': 272,\n",
       "   'title': 'Batman Begins',\n",
       "   'overview': 'Driven by tragedy, billionaire Bruce Wayne dedicates his life to uncovering and defeating the corruption that plagues his home, Gotham City.  Unable to work within the system, he instead creates a new identity, a symbol of fear for the criminal underworld - The Batman.',\n",
       "   'genres': ['Action', 'Crime', 'Drama'],\n",
       "   'poster': 'https://image.tmdb.org/t/p/w500/1P3ZyEq02wcTMd3iE4ebtLvncvH.jpg',\n",
       "   'release_date': 1118361600},\n",
       "  {'id': 364,\n",
       "   'title': 'Batman Returns',\n",
       "   'overview': 'While Batman deals with a deformed man calling himself the Penguin, an employee of a corrupt businessman transforms into the Catwoman.',\n",
       "   'genres': ['Action', 'Fantasy'],\n",
       "   'poster': 'https://image.tmdb.org/t/p/w500/jKBjeXM7iBBV9UkUcOXx3m7FSHY.jpg',\n",
       "   'release_date': 708912000},\n",
       "  {'id': 414,\n",
       "   'title': 'Batman Forever',\n",
       "   'overview': 'Batman must battle a disfigured district attorney and a disgruntled former employee with help from an amorous psychologist and a young circus acrobat.',\n",
       "   'genres': ['Action', 'Crime', 'Fantasy'],\n",
       "   'poster': 'https://image.tmdb.org/t/p/w500/k6EQ2OewzjF8TcPgok9wxpPAgXW.jpg',\n",
       "   'release_date': 803260800},\n",
       "  {'id': 415,\n",
       "   'title': 'Batman & Robin',\n",
       "   'overview': 'Batman and Robin deal with relationship issues while preventing Mr. Freeze and Poison Ivy from attacking Gotham City.',\n",
       "   'genres': ['Science Fiction', 'Action', 'Fantasy'],\n",
       "   'poster': 'https://image.tmdb.org/t/p/w500/bsg0mrxUKyJoL4oSGP5mlhEsqp.jpg',\n",
       "   'release_date': 866764800},\n",
       "  {'id': 2661,\n",
       "   'title': 'Batman',\n",
       "   'overview': 'The Dynamic Duo faces four super-villains who plan to hold the world for ransom with the help of a secret invention that instantly dehydrates people.',\n",
       "   'genres': ['Family', 'Adventure', 'Comedy', 'Science Fiction', 'Crime'],\n",
       "   'poster': 'https://image.tmdb.org/t/p/w500/iLC5bgc1NOuXpfBxtb8xEj6tzvu.jpg',\n",
       "   'release_date': -108086400},\n",
       "  {'id': 13851,\n",
       "   'title': 'Batman: Gotham Knight',\n",
       "   'overview': \"A collection of key events mark Bruce Wayne's life as he journeys from beginner to Dark Knight.\",\n",
       "   'genres': ['Animation', 'Action', 'Adventure'],\n",
       "   'poster': 'https://image.tmdb.org/t/p/w500/f3xUrqo7yEiU0guk2Ua3Znqiw6S.jpg',\n",
       "   'release_date': 1215475200},\n",
       "  {'id': 14919,\n",
       "   'title': 'Batman: Mask of the Phantasm',\n",
       "   'overview': \"When a powerful criminal, who is connected to Bruce Wayne's ex-girlfriend, blames the Dark Knight for killing a crime lord, Batman decides to fight against him.\",\n",
       "   'genres': ['Action', 'Animation', 'Crime'],\n",
       "   'poster': 'https://image.tmdb.org/t/p/w500/l4jaQjkgznu2Rz05X18f24UjPNW.jpg',\n",
       "   'release_date': 756777600},\n",
       "  {'id': 15805,\n",
       "   'title': 'Batman & Mr. Freeze: SubZero',\n",
       "   'overview': 'When Mr. Freeze kidnaps Barbara Gordon, as an involuntary organ donor to save his dying wife, Batman and Robin must find her before the operation can begin.',\n",
       "   'genres': ['Animation', 'Action', 'Crime', 'Family'],\n",
       "   'poster': 'https://image.tmdb.org/t/p/w500/eIeT9dsFeKiKNxjWyXHTL92TTrJ.jpg',\n",
       "   'release_date': 887155200},\n",
       "  {'id': 16234,\n",
       "   'title': 'Batman Beyond: Return of the Joker',\n",
       "   'overview': \"The Joker is back with a vengeance, and Gotham's newest Dark Knight needs answers as he stands alone to face Gotham's most infamous Clown Prince of Crime.\",\n",
       "   'genres': ['Animation', 'Family', 'Action', 'Science Fiction'],\n",
       "   'poster': 'https://image.tmdb.org/t/p/w500/7RlBs0An83fqAuKfwH5gKMcqgMc.jpg',\n",
       "   'release_date': 976579200},\n",
       "  {'id': 21683,\n",
       "   'title': 'Batman: Mystery of the Batwoman',\n",
       "   'overview': \"As if the Penguin wasn't enough to contend with, a new vigilante has surfaced in Gotham City, and her strong-arm tactics give Batman cause for concern.\",\n",
       "   'genres': ['Adventure',\n",
       "    'Fantasy',\n",
       "    'Animation',\n",
       "    'Action',\n",
       "    'Science Fiction',\n",
       "    'Family'],\n",
       "   'poster': 'https://image.tmdb.org/t/p/w500/mlmhpUArJdpRPO211v3lETe3uzg.jpg',\n",
       "   'release_date': 1066694400},\n",
       "  {'id': 29751,\n",
       "   'title': 'Batman Unmasked: The Psychology of the Dark Knight',\n",
       "   'overview': 'Delve into the world of Batman and the vigilante justice that he brought to the city of Gotham. Batman is a man who, after experiencing great tragedy, devotes his life to an ideal--but what happens when one man takes on the evil underworld alone? Examine why Batman is who he is--and explore how a boy scarred by tragedy becomes a symbol of hope to everyone else.',\n",
       "   'genres': ['Documentary'],\n",
       "   'poster': 'https://image.tmdb.org/t/p/w500/e15wNHmLX7PJUo8lqzQRhwbX7PL.jpg',\n",
       "   'release_date': 1216080000},\n",
       "  {'id': 40662,\n",
       "   'title': 'Batman: Under the Red Hood',\n",
       "   'overview': 'One part vigilante, one part criminal kingpin, Red Hood begins cleaning up Gotham with the efficiency of Batman, but without following the same ethical code.',\n",
       "   'genres': ['Action', 'Animation', 'Mystery', 'Crime'],\n",
       "   'poster': 'https://image.tmdb.org/t/p/w500/dEujs48u3n4cmh15ITtHHDFxSaS.jpg',\n",
       "   'release_date': 1280188800},\n",
       "  {'id': 45162,\n",
       "   'title': 'Superman/Batman: Apocalypse',\n",
       "   'overview': 'Batman discovers a mysterious teen-aged girl with superhuman powers and a connection to Superman. When the girl comes to the attention of Darkseid, the evil overlord of Apokolips, events take a decidedly dangerous turn.',\n",
       "   'genres': ['Action', 'Adventure', 'Animation', 'Family', 'Science Fiction'],\n",
       "   'poster': 'https://image.tmdb.org/t/p/w500/zYTm9Zjrf4uLL1mT4UJg4j2Mugu.jpg',\n",
       "   'release_date': 1285632000},\n",
       "  {'id': 64202,\n",
       "   'title': 'Batman Beyond: The Movie',\n",
       "   'overview': 'Fueled by remorse and vengeance, a high schooler named Terry McGinnis revives the role of Batman. Under supervision of an elderly Bruce Wayne, he fights crime in a harsh futuristic Gotham.',\n",
       "   'genres': ['Animation', 'Action', 'Family', 'Science Fiction', 'TV Movie'],\n",
       "   'poster': 'https://image.tmdb.org/t/p/w500/7BCRuuuAVRzJbrm9IqvGaa12Lqo.jpg',\n",
       "   'release_date': 915926400},\n",
       "  {'id': 69735,\n",
       "   'title': 'Batman: Year One',\n",
       "   'overview': 'When Bruce Wayne and James Gordon move to Gotham City, the idealistic Wayne declares war on the city’s criminals, swiftly becoming Batman in the process.',\n",
       "   'genres': ['Action', 'Adventure', 'Animation', 'Crime'],\n",
       "   'poster': 'https://image.tmdb.org/t/p/w500/mLZRhulJcDsxZWTdfx0trtk6y07.jpg',\n",
       "   'release_date': 1317081600},\n",
       "  {'id': 123025,\n",
       "   'title': 'Batman: The Dark Knight Returns, Part 1',\n",
       "   'overview': 'Batman has not been seen for ten years. A new breed of criminal ravages Gotham City, forcing 55-year-old Bruce Wayne back into the cape and cowl. But, does he still have what it takes to fight crime in a new era?',\n",
       "   'genres': ['Action', 'Animation', 'Mystery'],\n",
       "   'poster': 'https://image.tmdb.org/t/p/w500/kkjTbwV1Xnj8wBL52PjOcXzTbnb.jpg',\n",
       "   'release_date': 1345507200},\n",
       "  {'id': 142061,\n",
       "   'title': 'Batman: The Dark Knight Returns, Part 2',\n",
       "   'overview': 'Batman has stopped the reign of terror that The Mutants had cast upon his city.  Now an old foe wants a reunion and the government wants The Man of Steel to put a stop to Batman.',\n",
       "   'genres': ['Action', 'Animation', 'Mystery'],\n",
       "   'poster': 'https://image.tmdb.org/t/p/w500/arEZYd6uMOFTILne9Ux0A8qctMe.jpg',\n",
       "   'release_date': 1357171200},\n",
       "  {'id': 186579,\n",
       "   'title': 'Batman Tech',\n",
       "   'overview': \"He's caped, cowled and the coolest superhero of them all, because underneath that Batsuit, Batman only has his human strength and intellect to rely on. That and the greatest arsenal of crime fighting weaponry ever devised. But just where does comic book science fiction end and scientific fact begin? What technologies are behind the gadgets in Batman's utility belt? And just how plausible is the Batmobile? Get ready for a real life trip to the Batcave as we reveal the secrets behind Batman Tech.\",\n",
       "   'genres': ['Documentary'],\n",
       "   'poster': 'https://image.tmdb.org/t/p/w500/tlAYMNTvga69AUXMIY0HeeoblHT.jpg',\n",
       "   'release_date': 1216512000},\n",
       "  {'id': 209112,\n",
       "   'title': 'Batman v Superman: Dawn of Justice',\n",
       "   'overview': 'Fearing the actions of a god-like Super Hero left unchecked, Gotham City’s own formidable, forceful vigilante takes on Metropolis’s most revered, modern-day savior, while the world wrestles with what sort of hero it really needs. And with Batman and Superman at war with one another, a new threat quickly arises, putting mankind in greater danger than it’s ever known before.',\n",
       "   'genres': ['Action', 'Adventure', 'Fantasy'],\n",
       "   'poster': 'https://image.tmdb.org/t/p/w500/5UsK3grJvtQrtzEgqNlDljJW96w.jpg',\n",
       "   'release_date': 1458691200}],\n",
       " 'query': 'botman',\n",
       " 'processingTimeMs': 21,\n",
       " 'limit': 20,\n",
       " 'offset': 0,\n",
       " 'estimatedTotalHits': 70}"
      ]
     },
     "execution_count": 6,
     "metadata": {},
     "output_type": "execute_result"
    }
   ],
   "source": [
    "client.index('movies').search('botman')"
   ]
  },
  {
   "cell_type": "code",
   "execution_count": 7,
   "id": "33a1d0e5",
   "metadata": {},
   "outputs": [
    {
     "data": {
      "text/plain": [
       "{'hits': [{'id': 268,\n",
       "   'title': 'Batman',\n",
       "   'overview': 'Batman must face his most ruthless nemesis when a deformed madman calling himself \"The Joker\" seizes control of Gotham\\'s criminal underworld.',\n",
       "   'genres': ['Fantasy', 'Action'],\n",
       "   'poster': 'https://image.tmdb.org/t/p/w500/hztwplhxe2X9sq24CIcvkUy2DHZ.jpg',\n",
       "   'release_date': 614563200},\n",
       "  {'id': 379291,\n",
       "   'title': 'Justice League vs. Teen Titans',\n",
       "   'overview': 'Robin is sent by Batman to work with the Teen Titans after his volatile behavior botches up a Justice League mission. The Titans must then step up to face Trigon after he possesses the League and threatens to conquer the world.',\n",
       "   'genres': ['Action', 'Animation'],\n",
       "   'poster': 'https://image.tmdb.org/t/p/w500/3G6RPpafXApTzn56cbVqLBp9uSz.jpg',\n",
       "   'release_date': 1459209600},\n",
       "  {'id': 414,\n",
       "   'title': 'Batman Forever',\n",
       "   'overview': 'Batman must battle a disfigured district attorney and a disgruntled former employee with help from an amorous psychologist and a young circus acrobat.',\n",
       "   'genres': ['Action', 'Crime', 'Fantasy'],\n",
       "   'poster': 'https://image.tmdb.org/t/p/w500/k6EQ2OewzjF8TcPgok9wxpPAgXW.jpg',\n",
       "   'release_date': 803260800},\n",
       "  {'id': 15805,\n",
       "   'title': 'Batman & Mr. Freeze: SubZero',\n",
       "   'overview': 'When Mr. Freeze kidnaps Barbara Gordon, as an involuntary organ donor to save his dying wife, Batman and Robin must find her before the operation can begin.',\n",
       "   'genres': ['Animation', 'Action', 'Crime', 'Family'],\n",
       "   'poster': 'https://image.tmdb.org/t/p/w500/eIeT9dsFeKiKNxjWyXHTL92TTrJ.jpg',\n",
       "   'release_date': 887155200},\n",
       "  {'id': 324849,\n",
       "   'title': 'The Lego Batman Movie',\n",
       "   'overview': 'A cooler-than-ever Bruce Wayne must deal with the usual suspects as they plan to rule Gotham City, while discovering that he has accidentally adopted a teenage orphan who wishes to become his sidekick.',\n",
       "   'genres': ['Family', 'Action', 'Animation', 'Comedy', 'Fantasy'],\n",
       "   'poster': 'https://image.tmdb.org/t/p/w500/snGwr2gag4Fcgx2OGmH9otl6ofW.jpg',\n",
       "   'release_date': 1486512000},\n",
       "  {'id': 22855,\n",
       "   'title': 'Superman/Batman: Public Enemies',\n",
       "   'overview': 'United States President Lex Luthor uses the oncoming trajectory of a Kryptonite meteor to frame Superman and declare a $1 billion bounty on the heads of the Man of Steel and his ‘partner in crime’, Batman. Heroes and villains alike launch a relentless pursuit of Superman and Batman, who must unite—and recruit help—to try and stave off the action-packed onslaught, stop the meteor Luthors plot.',\n",
       "   'genres': ['Animation', 'Action', 'Adventure', 'Family'],\n",
       "   'poster': 'https://image.tmdb.org/t/p/w500/izvMc22ywSLFWUXZEIuJJ8dms75.jpg',\n",
       "   'release_date': 1254182400},\n",
       "  {'id': 217993,\n",
       "   'title': 'Justice League: War',\n",
       "   'overview': 'The world is under attack by an alien armada led by the powerful Apokoliptian, Darkseid. A group of superheroes consisting of Superman, Batman, Wonder Woman, The Flash, Green Lantern, Cyborg, and Shazam must set aside their differences and gather together to defend Earth.',\n",
       "   'genres': ['Animation', 'Action'],\n",
       "   'poster': 'https://image.tmdb.org/t/p/w500/eu6zEhpt9QVgZk8T4FJCwKCbJkq.jpg',\n",
       "   'release_date': 1391299200},\n",
       "  {'id': 2661,\n",
       "   'title': 'Batman',\n",
       "   'overview': 'The Dynamic Duo faces four super-villains who plan to hold the world for ransom with the help of a secret invention that instantly dehydrates people.',\n",
       "   'genres': ['Family', 'Adventure', 'Comedy', 'Science Fiction', 'Crime'],\n",
       "   'poster': 'https://image.tmdb.org/t/p/w500/iLC5bgc1NOuXpfBxtb8xEj6tzvu.jpg',\n",
       "   'release_date': -108086400},\n",
       "  {'id': 272,\n",
       "   'title': 'Batman Begins',\n",
       "   'overview': 'Driven by tragedy, billionaire Bruce Wayne dedicates his life to uncovering and defeating the corruption that plagues his home, Gotham City.  Unable to work within the system, he instead creates a new identity, a symbol of fear for the criminal underworld - The Batman.',\n",
       "   'genres': ['Action', 'Crime', 'Drama'],\n",
       "   'poster': 'https://image.tmdb.org/t/p/w500/1P3ZyEq02wcTMd3iE4ebtLvncvH.jpg',\n",
       "   'release_date': 1118361600},\n",
       "  {'id': 364,\n",
       "   'title': 'Batman Returns',\n",
       "   'overview': 'While Batman deals with a deformed man calling himself the Penguin, an employee of a corrupt businessman transforms into the Catwoman.',\n",
       "   'genres': ['Action', 'Fantasy'],\n",
       "   'poster': 'https://image.tmdb.org/t/p/w500/jKBjeXM7iBBV9UkUcOXx3m7FSHY.jpg',\n",
       "   'release_date': 708912000},\n",
       "  {'id': 415,\n",
       "   'title': 'Batman & Robin',\n",
       "   'overview': 'Batman and Robin deal with relationship issues while preventing Mr. Freeze and Poison Ivy from attacking Gotham City.',\n",
       "   'genres': ['Science Fiction', 'Action', 'Fantasy'],\n",
       "   'poster': 'https://image.tmdb.org/t/p/w500/bsg0mrxUKyJoL4oSGP5mlhEsqp.jpg',\n",
       "   'release_date': 866764800},\n",
       "  {'id': 13851,\n",
       "   'title': 'Batman: Gotham Knight',\n",
       "   'overview': \"A collection of key events mark Bruce Wayne's life as he journeys from beginner to Dark Knight.\",\n",
       "   'genres': ['Animation', 'Action', 'Adventure'],\n",
       "   'poster': 'https://image.tmdb.org/t/p/w500/f3xUrqo7yEiU0guk2Ua3Znqiw6S.jpg',\n",
       "   'release_date': 1215475200},\n",
       "  {'id': 14919,\n",
       "   'title': 'Batman: Mask of the Phantasm',\n",
       "   'overview': \"When a powerful criminal, who is connected to Bruce Wayne's ex-girlfriend, blames the Dark Knight for killing a crime lord, Batman decides to fight against him.\",\n",
       "   'genres': ['Action', 'Animation', 'Crime'],\n",
       "   'poster': 'https://image.tmdb.org/t/p/w500/l4jaQjkgznu2Rz05X18f24UjPNW.jpg',\n",
       "   'release_date': 756777600},\n",
       "  {'id': 16234,\n",
       "   'title': 'Batman Beyond: Return of the Joker',\n",
       "   'overview': \"The Joker is back with a vengeance, and Gotham's newest Dark Knight needs answers as he stands alone to face Gotham's most infamous Clown Prince of Crime.\",\n",
       "   'genres': ['Animation', 'Family', 'Action', 'Science Fiction'],\n",
       "   'poster': 'https://image.tmdb.org/t/p/w500/7RlBs0An83fqAuKfwH5gKMcqgMc.jpg',\n",
       "   'release_date': 976579200},\n",
       "  {'id': 21683,\n",
       "   'title': 'Batman: Mystery of the Batwoman',\n",
       "   'overview': \"As if the Penguin wasn't enough to contend with, a new vigilante has surfaced in Gotham City, and her strong-arm tactics give Batman cause for concern.\",\n",
       "   'genres': ['Adventure',\n",
       "    'Fantasy',\n",
       "    'Animation',\n",
       "    'Action',\n",
       "    'Science Fiction',\n",
       "    'Family'],\n",
       "   'poster': 'https://image.tmdb.org/t/p/w500/mlmhpUArJdpRPO211v3lETe3uzg.jpg',\n",
       "   'release_date': 1066694400},\n",
       "  {'id': 29751,\n",
       "   'title': 'Batman Unmasked: The Psychology of the Dark Knight',\n",
       "   'overview': 'Delve into the world of Batman and the vigilante justice that he brought to the city of Gotham. Batman is a man who, after experiencing great tragedy, devotes his life to an ideal--but what happens when one man takes on the evil underworld alone? Examine why Batman is who he is--and explore how a boy scarred by tragedy becomes a symbol of hope to everyone else.',\n",
       "   'genres': ['Documentary'],\n",
       "   'poster': 'https://image.tmdb.org/t/p/w500/e15wNHmLX7PJUo8lqzQRhwbX7PL.jpg',\n",
       "   'release_date': 1216080000},\n",
       "  {'id': 40662,\n",
       "   'title': 'Batman: Under the Red Hood',\n",
       "   'overview': 'One part vigilante, one part criminal kingpin, Red Hood begins cleaning up Gotham with the efficiency of Batman, but without following the same ethical code.',\n",
       "   'genres': ['Action', 'Animation', 'Mystery', 'Crime'],\n",
       "   'poster': 'https://image.tmdb.org/t/p/w500/dEujs48u3n4cmh15ITtHHDFxSaS.jpg',\n",
       "   'release_date': 1280188800},\n",
       "  {'id': 45162,\n",
       "   'title': 'Superman/Batman: Apocalypse',\n",
       "   'overview': 'Batman discovers a mysterious teen-aged girl with superhuman powers and a connection to Superman. When the girl comes to the attention of Darkseid, the evil overlord of Apokolips, events take a decidedly dangerous turn.',\n",
       "   'genres': ['Action', 'Adventure', 'Animation', 'Family', 'Science Fiction'],\n",
       "   'poster': 'https://image.tmdb.org/t/p/w500/zYTm9Zjrf4uLL1mT4UJg4j2Mugu.jpg',\n",
       "   'release_date': 1285632000},\n",
       "  {'id': 64202,\n",
       "   'title': 'Batman Beyond: The Movie',\n",
       "   'overview': 'Fueled by remorse and vengeance, a high schooler named Terry McGinnis revives the role of Batman. Under supervision of an elderly Bruce Wayne, he fights crime in a harsh futuristic Gotham.',\n",
       "   'genres': ['Animation', 'Action', 'Family', 'Science Fiction', 'TV Movie'],\n",
       "   'poster': 'https://image.tmdb.org/t/p/w500/7BCRuuuAVRzJbrm9IqvGaa12Lqo.jpg',\n",
       "   'release_date': 915926400},\n",
       "  {'id': 69735,\n",
       "   'title': 'Batman: Year One',\n",
       "   'overview': 'When Bruce Wayne and James Gordon move to Gotham City, the idealistic Wayne declares war on the city’s criminals, swiftly becoming Batman in the process.',\n",
       "   'genres': ['Action', 'Adventure', 'Animation', 'Crime'],\n",
       "   'poster': 'https://image.tmdb.org/t/p/w500/mLZRhulJcDsxZWTdfx0trtk6y07.jpg',\n",
       "   'release_date': 1317081600}],\n",
       " 'query': 'Batman must face his most ruthless nemesis when',\n",
       " 'processingTimeMs': 14,\n",
       " 'limit': 20,\n",
       " 'offset': 0,\n",
       " 'estimatedTotalHits': 64}"
      ]
     },
     "execution_count": 7,
     "metadata": {},
     "output_type": "execute_result"
    }
   ],
   "source": [
    "client.index('movies').search('Batman must face his most ruthless nemesis when')"
   ]
  },
  {
   "cell_type": "markdown",
   "id": "6f6665d4",
   "metadata": {},
   "source": [
    "## end"
   ]
  },
  {
   "cell_type": "code",
   "execution_count": 8,
   "id": "344589b6-ff0e-4b69-a91e-b4f591549714",
   "metadata": {},
   "outputs": [
    {
     "data": {
      "text/plain": [
       "{'displayedAttributes': ['*'],\n",
       " 'searchableAttributes': ['*'],\n",
       " 'filterableAttributes': [],\n",
       " 'sortableAttributes': [],\n",
       " 'rankingRules': ['words',\n",
       "  'typo',\n",
       "  'proximity',\n",
       "  'attribute',\n",
       "  'sort',\n",
       "  'exactness'],\n",
       " 'stopWords': [],\n",
       " 'nonSeparatorTokens': [],\n",
       " 'separatorTokens': [],\n",
       " 'dictionary': [],\n",
       " 'synonyms': {},\n",
       " 'distinctAttribute': None,\n",
       " 'proximityPrecision': 'byWord',\n",
       " 'typoTolerance': {'enabled': True,\n",
       "  'minWordSizeForTypos': {'oneTypo': 5, 'twoTypos': 9},\n",
       "  'disableOnWords': [],\n",
       "  'disableOnAttributes': []},\n",
       " 'faceting': {'maxValuesPerFacet': 100, 'sortFacetValuesBy': {'*': 'alpha'}},\n",
       " 'pagination': {'maxTotalHits': 1000}}"
      ]
     },
     "execution_count": 8,
     "metadata": {},
     "output_type": "execute_result"
    }
   ],
   "source": [
    "client.index('movies').get_settings()"
   ]
  },
  {
   "cell_type": "code",
   "execution_count": 17,
   "id": "5a2123d2-d17a-4bfe-8cf4-624f3753d968",
   "metadata": {},
   "outputs": [
    {
     "ename": "MeilisearchApiError",
     "evalue": "MeilisearchApiError. Error code: invalid_settings_embedders. Error message: Unknown value `rest` at `.embedders.default.source`: expected one of `openAi`, `huggingFace`, `userProvided` Error documentation: https://docs.meilisearch.com/errors#invalid_settings_embedders Error type: invalid_request",
     "output_type": "error",
     "traceback": [
      "\u001b[1;31m---------------------------------------------------------------------------\u001b[0m",
      "\u001b[1;31mHTTPError\u001b[0m                                 Traceback (most recent call last)",
      "File \u001b[1;32m~\\AppData\\Roaming\\Python\\Python311\\site-packages\\meilisearch\\_httprequests.py:135\u001b[0m, in \u001b[0;36mHttpRequests.__validate\u001b[1;34m(request)\u001b[0m\n\u001b[0;32m    134\u001b[0m \u001b[38;5;28;01mtry\u001b[39;00m:\n\u001b[1;32m--> 135\u001b[0m     request\u001b[38;5;241m.\u001b[39mraise_for_status()\n\u001b[0;32m    136\u001b[0m     \u001b[38;5;28;01mreturn\u001b[39;00m HttpRequests\u001b[38;5;241m.\u001b[39m__to_json(request)\n",
      "File \u001b[1;32m~\\AppData\\Roaming\\Python\\Python311\\site-packages\\requests\\models.py:1021\u001b[0m, in \u001b[0;36mResponse.raise_for_status\u001b[1;34m(self)\u001b[0m\n\u001b[0;32m   1020\u001b[0m \u001b[38;5;28;01mif\u001b[39;00m http_error_msg:\n\u001b[1;32m-> 1021\u001b[0m     \u001b[38;5;28;01mraise\u001b[39;00m HTTPError(http_error_msg, response\u001b[38;5;241m=\u001b[39m\u001b[38;5;28mself\u001b[39m)\n",
      "\u001b[1;31mHTTPError\u001b[0m: 400 Client Error: Bad Request for url: http://localhost:7700/indexes/movies/settings",
      "\nThe above exception was the direct cause of the following exception:\n",
      "\u001b[1;31mMeilisearchApiError\u001b[0m                       Traceback (most recent call last)",
      "Cell \u001b[1;32mIn[17], line 1\u001b[0m\n\u001b[1;32m----> 1\u001b[0m client\u001b[38;5;241m.\u001b[39mindex(\u001b[38;5;124m'\u001b[39m\u001b[38;5;124mmovies\u001b[39m\u001b[38;5;124m'\u001b[39m)\u001b[38;5;241m.\u001b[39mupdate_settings({\n\u001b[0;32m      2\u001b[0m     \u001b[38;5;124m\"\u001b[39m\u001b[38;5;124membedders\u001b[39m\u001b[38;5;124m\"\u001b[39m: {\n\u001b[0;32m      3\u001b[0m       \u001b[38;5;124m\"\u001b[39m\u001b[38;5;124mdefault\u001b[39m\u001b[38;5;124m\"\u001b[39m: {\n\u001b[0;32m      4\u001b[0m         \u001b[38;5;124m\"\u001b[39m\u001b[38;5;124msource\u001b[39m\u001b[38;5;124m\"\u001b[39m: \u001b[38;5;124m\"\u001b[39m\u001b[38;5;124mrest\u001b[39m\u001b[38;5;124m\"\u001b[39m,\n\u001b[0;32m      5\u001b[0m         \u001b[38;5;124m\"\u001b[39m\u001b[38;5;124murl\u001b[39m\u001b[38;5;124m\"\u001b[39m: \u001b[38;5;124m\"\u001b[39m\u001b[38;5;124mhttp://localhost:12345/api/v1/embed\u001b[39m\u001b[38;5;124m\"\u001b[39m,\n\u001b[0;32m      6\u001b[0m         \u001b[38;5;124m\"\u001b[39m\u001b[38;5;124mapiKey\u001b[39m\u001b[38;5;124m\"\u001b[39m: \u001b[38;5;124m\"\u001b[39m\u001b[38;5;124mSOURCE_API_KEY\u001b[39m\u001b[38;5;124m\"\u001b[39m,\n\u001b[0;32m      7\u001b[0m         \u001b[38;5;124m\"\u001b[39m\u001b[38;5;124mdimensions\u001b[39m\u001b[38;5;124m\"\u001b[39m: \u001b[38;5;241m512\u001b[39m,\n\u001b[0;32m      8\u001b[0m         \u001b[38;5;124m\"\u001b[39m\u001b[38;5;124mdocumentTemplate\u001b[39m\u001b[38;5;124m\"\u001b[39m: \u001b[38;5;124m\"\u001b[39m\u001b[38;5;124mA document titled \u001b[39m\u001b[38;5;124m{{\u001b[39m\u001b[38;5;124mdoc.title}} whose description starts with \u001b[39m\u001b[38;5;124m{{\u001b[39m\u001b[38;5;124mdoc.overview|truncatewords: 20}}\u001b[39m\u001b[38;5;124m\"\u001b[39m,\n\u001b[0;32m      9\u001b[0m         \u001b[38;5;124m\"\u001b[39m\u001b[38;5;124minputField\u001b[39m\u001b[38;5;124m\"\u001b[39m: [\u001b[38;5;124m\"\u001b[39m\u001b[38;5;124mdata\u001b[39m\u001b[38;5;124m\"\u001b[39m, \u001b[38;5;124m\"\u001b[39m\u001b[38;5;124mtext\u001b[39m\u001b[38;5;124m\"\u001b[39m],\n\u001b[0;32m     10\u001b[0m         \u001b[38;5;124m\"\u001b[39m\u001b[38;5;124minputType\u001b[39m\u001b[38;5;124m\"\u001b[39m: \u001b[38;5;124m\"\u001b[39m\u001b[38;5;124mtext\u001b[39m\u001b[38;5;124m\"\u001b[39m,\n\u001b[0;32m     11\u001b[0m         \u001b[38;5;124m\"\u001b[39m\u001b[38;5;124mquery\u001b[39m\u001b[38;5;124m\"\u001b[39m: {\n\u001b[0;32m     12\u001b[0m           \u001b[38;5;124m\"\u001b[39m\u001b[38;5;124mmodel\u001b[39m\u001b[38;5;124m\"\u001b[39m: \u001b[38;5;124m\"\u001b[39m\u001b[38;5;124mMODEL_NAME\u001b[39m\u001b[38;5;124m\"\u001b[39m,\n\u001b[0;32m     13\u001b[0m           \u001b[38;5;124m\"\u001b[39m\u001b[38;5;124mdimensions\u001b[39m\u001b[38;5;124m\"\u001b[39m: \u001b[38;5;241m512\u001b[39m\n\u001b[0;32m     14\u001b[0m         }\n\u001b[0;32m     15\u001b[0m       }\n\u001b[0;32m     16\u001b[0m     }\n\u001b[0;32m     17\u001b[0m })\n",
      "File \u001b[1;32m~\\AppData\\Roaming\\Python\\Python311\\site-packages\\meilisearch\\index.py:981\u001b[0m, in \u001b[0;36mIndex.update_settings\u001b[1;34m(self, body)\u001b[0m\n\u001b[0;32m    958\u001b[0m \u001b[38;5;28;01mdef\u001b[39;00m \u001b[38;5;21mupdate_settings\u001b[39m(\u001b[38;5;28mself\u001b[39m, body: Mapping[\u001b[38;5;28mstr\u001b[39m, Any]) \u001b[38;5;241m-\u001b[39m\u001b[38;5;241m>\u001b[39m TaskInfo:\n\u001b[0;32m    959\u001b[0m \u001b[38;5;250m    \u001b[39m\u001b[38;5;124;03m\"\"\"Update settings of the index.\u001b[39;00m\n\u001b[0;32m    960\u001b[0m \n\u001b[0;32m    961\u001b[0m \u001b[38;5;124;03m    https://www.meilisearch.com/docs/reference/api/settings#update-settings\u001b[39;00m\n\u001b[1;32m   (...)\u001b[0m\n\u001b[0;32m    979\u001b[0m \u001b[38;5;124;03m        An error containing details about why Meilisearch can't process your request. Meilisearch error codes are described here: https://www.meilisearch.com/docs/reference/errors/error_codes#meilisearch-errors\u001b[39;00m\n\u001b[0;32m    980\u001b[0m \u001b[38;5;124;03m    \"\"\"\u001b[39;00m\n\u001b[1;32m--> 981\u001b[0m     task \u001b[38;5;241m=\u001b[39m \u001b[38;5;28mself\u001b[39m\u001b[38;5;241m.\u001b[39mhttp\u001b[38;5;241m.\u001b[39mpatch(\n\u001b[0;32m    982\u001b[0m         \u001b[38;5;124mf\u001b[39m\u001b[38;5;124m\"\u001b[39m\u001b[38;5;132;01m{\u001b[39;00m\u001b[38;5;28mself\u001b[39m\u001b[38;5;241m.\u001b[39mconfig\u001b[38;5;241m.\u001b[39mpaths\u001b[38;5;241m.\u001b[39mindex\u001b[38;5;132;01m}\u001b[39;00m\u001b[38;5;124m/\u001b[39m\u001b[38;5;132;01m{\u001b[39;00m\u001b[38;5;28mself\u001b[39m\u001b[38;5;241m.\u001b[39muid\u001b[38;5;132;01m}\u001b[39;00m\u001b[38;5;124m/\u001b[39m\u001b[38;5;132;01m{\u001b[39;00m\u001b[38;5;28mself\u001b[39m\u001b[38;5;241m.\u001b[39mconfig\u001b[38;5;241m.\u001b[39mpaths\u001b[38;5;241m.\u001b[39msetting\u001b[38;5;132;01m}\u001b[39;00m\u001b[38;5;124m\"\u001b[39m, body\n\u001b[0;32m    983\u001b[0m     )\n\u001b[0;32m    985\u001b[0m     \u001b[38;5;28;01mreturn\u001b[39;00m TaskInfo(\u001b[38;5;241m*\u001b[39m\u001b[38;5;241m*\u001b[39mtask)\n",
      "File \u001b[1;32m~\\AppData\\Roaming\\Python\\Python311\\site-packages\\meilisearch\\_httprequests.py:98\u001b[0m, in \u001b[0;36mHttpRequests.patch\u001b[1;34m(self, path, body, content_type)\u001b[0m\n\u001b[0;32m     90\u001b[0m \u001b[38;5;28;01mdef\u001b[39;00m \u001b[38;5;21mpatch\u001b[39m(\n\u001b[0;32m     91\u001b[0m     \u001b[38;5;28mself\u001b[39m,\n\u001b[0;32m     92\u001b[0m     path: \u001b[38;5;28mstr\u001b[39m,\n\u001b[1;32m   (...)\u001b[0m\n\u001b[0;32m     96\u001b[0m     content_type: Optional[\u001b[38;5;28mstr\u001b[39m] \u001b[38;5;241m=\u001b[39m \u001b[38;5;124m\"\u001b[39m\u001b[38;5;124mapplication/json\u001b[39m\u001b[38;5;124m\"\u001b[39m,\n\u001b[0;32m     97\u001b[0m ) \u001b[38;5;241m-\u001b[39m\u001b[38;5;241m>\u001b[39m Any:\n\u001b[1;32m---> 98\u001b[0m     \u001b[38;5;28;01mreturn\u001b[39;00m \u001b[38;5;28mself\u001b[39m\u001b[38;5;241m.\u001b[39msend_request(requests\u001b[38;5;241m.\u001b[39mpatch, path, body, content_type)\n",
      "File \u001b[1;32m~\\AppData\\Roaming\\Python\\Python311\\site-packages\\meilisearch\\_httprequests.py:68\u001b[0m, in \u001b[0;36mHttpRequests.send_request\u001b[1;34m(self, http_method, path, body, content_type, serializer)\u001b[0m\n\u001b[0;32m     63\u001b[0m         data \u001b[38;5;241m=\u001b[39m json\u001b[38;5;241m.\u001b[39mdumps(body, \u001b[38;5;28mcls\u001b[39m\u001b[38;5;241m=\u001b[39mserializer) \u001b[38;5;28;01mif\u001b[39;00m body \u001b[38;5;28;01melse\u001b[39;00m \u001b[38;5;124m\"\u001b[39m\u001b[38;5;124m\"\u001b[39m \u001b[38;5;28;01mif\u001b[39;00m body \u001b[38;5;241m==\u001b[39m \u001b[38;5;124m\"\u001b[39m\u001b[38;5;124m\"\u001b[39m \u001b[38;5;28;01melse\u001b[39;00m \u001b[38;5;124m\"\u001b[39m\u001b[38;5;124mnull\u001b[39m\u001b[38;5;124m\"\u001b[39m\n\u001b[0;32m     65\u001b[0m         request \u001b[38;5;241m=\u001b[39m http_method(\n\u001b[0;32m     66\u001b[0m             request_path, timeout\u001b[38;5;241m=\u001b[39m\u001b[38;5;28mself\u001b[39m\u001b[38;5;241m.\u001b[39mconfig\u001b[38;5;241m.\u001b[39mtimeout, headers\u001b[38;5;241m=\u001b[39m\u001b[38;5;28mself\u001b[39m\u001b[38;5;241m.\u001b[39mheaders, data\u001b[38;5;241m=\u001b[39mdata\n\u001b[0;32m     67\u001b[0m         )\n\u001b[1;32m---> 68\u001b[0m     \u001b[38;5;28;01mreturn\u001b[39;00m \u001b[38;5;28mself\u001b[39m\u001b[38;5;241m.\u001b[39m__validate(request)\n\u001b[0;32m     70\u001b[0m \u001b[38;5;28;01mexcept\u001b[39;00m requests\u001b[38;5;241m.\u001b[39mexceptions\u001b[38;5;241m.\u001b[39mTimeout \u001b[38;5;28;01mas\u001b[39;00m err:\n\u001b[0;32m     71\u001b[0m     \u001b[38;5;28;01mraise\u001b[39;00m MeilisearchTimeoutError(\u001b[38;5;28mstr\u001b[39m(err)) \u001b[38;5;28;01mfrom\u001b[39;00m \u001b[38;5;21;01merr\u001b[39;00m\n",
      "File \u001b[1;32m~\\AppData\\Roaming\\Python\\Python311\\site-packages\\meilisearch\\_httprequests.py:138\u001b[0m, in \u001b[0;36mHttpRequests.__validate\u001b[1;34m(request)\u001b[0m\n\u001b[0;32m    136\u001b[0m     \u001b[38;5;28;01mreturn\u001b[39;00m HttpRequests\u001b[38;5;241m.\u001b[39m__to_json(request)\n\u001b[0;32m    137\u001b[0m \u001b[38;5;28;01mexcept\u001b[39;00m requests\u001b[38;5;241m.\u001b[39mexceptions\u001b[38;5;241m.\u001b[39mHTTPError \u001b[38;5;28;01mas\u001b[39;00m err:\n\u001b[1;32m--> 138\u001b[0m     \u001b[38;5;28;01mraise\u001b[39;00m MeilisearchApiError(\u001b[38;5;28mstr\u001b[39m(err), request) \u001b[38;5;28;01mfrom\u001b[39;00m \u001b[38;5;21;01merr\u001b[39;00m\n",
      "\u001b[1;31mMeilisearchApiError\u001b[0m: MeilisearchApiError. Error code: invalid_settings_embedders. Error message: Unknown value `rest` at `.embedders.default.source`: expected one of `openAi`, `huggingFace`, `userProvided` Error documentation: https://docs.meilisearch.com/errors#invalid_settings_embedders Error type: invalid_request"
     ]
    }
   ],
   "source": [
    "client.index('movies').update_settings({\n",
    "    \"embedders\": {\n",
    "      \"default\": {\n",
    "        \"source\": \"rest\",\n",
    "        \"url\": \"http://localhost:12345/api/v1/embed\",\n",
    "        \"apiKey\": \"SOURCE_API_KEY\",\n",
    "        \"dimensions\": 512,\n",
    "        \"documentTemplate\": \"A document titled {{doc.title}} whose description starts with {{doc.overview|truncatewords: 20}}\",\n",
    "        \"inputField\": [\"data\", \"text\"],\n",
    "        \"inputType\": \"text\",\n",
    "        \"query\": {\n",
    "          \"model\": \"MODEL_NAME\",\n",
    "          \"dimensions\": 512\n",
    "        }\n",
    "      }\n",
    "    }\n",
    "})"
   ]
  },
  {
   "cell_type": "code",
   "execution_count": null,
   "id": "2b56aca4-c7c8-4c24-b35c-1711840a9f21",
   "metadata": {},
   "outputs": [],
   "source": []
  }
 ],
 "metadata": {
  "kernelspec": {
   "display_name": "Python 3 (ipykernel)",
   "language": "python",
   "name": "python3"
  },
  "language_info": {
   "codemirror_mode": {
    "name": "ipython",
    "version": 3
   },
   "file_extension": ".py",
   "mimetype": "text/x-python",
   "name": "python",
   "nbconvert_exporter": "python",
   "pygments_lexer": "ipython3",
   "version": "3.11.7"
  }
 },
 "nbformat": 4,
 "nbformat_minor": 5
}
